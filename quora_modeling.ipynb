{
 "cells": [
  {
   "cell_type": "markdown",
   "metadata": {
    "colab_type": "text",
    "id": "sSe-c-7l8y_B"
   },
   "source": [
    "## Import required libraries"
   ]
  },
  {
   "cell_type": "code",
   "execution_count": 112,
   "metadata": {
    "colab": {},
    "colab_type": "code",
    "id": "QNusjJcK8y_S"
   },
   "outputs": [],
   "source": [
    "import pandas as pd\n",
    "import matplotlib.pyplot as plt\n",
    "import re\n",
    "import time\n",
    "import warnings\n",
    "import sqlite3\n",
    "from sqlalchemy import create_engine # database connection\n",
    "import csv\n",
    "import os\n",
    "warnings.filterwarnings(\"ignore\")\n",
    "import datetime as dt\n",
    "import numpy as np\n",
    "from sklearn.model_selection import StratifiedKFold\n",
    "from sklearn.feature_extraction.text import CountVectorizer\n",
    "import seaborn as sns\n",
    "from prettytable import PrettyTable\n",
    "from sklearn.metrics import confusion_matrix\n",
    "from sklearn.metrics.classification import accuracy_score, log_loss\n",
    "from sklearn.preprocessing import StandardScaler\n",
    "from sklearn.model_selection import RandomizedSearchCV\n",
    "from sklearn.metrics import *\n",
    "from sklearn.feature_extraction.text import TfidfVectorizer\n",
    "from scipy.sparse import hstack\n",
    "from sklearn.calibration import CalibratedClassifierCV\n",
    "from sklearn.model_selection import train_test_split\n",
    "from sklearn.model_selection import GridSearchCV\n",
    "import math\n",
    "import xgboost as xgb\n",
    "#IMPORTING XGBOOST WRAPPER OF SKLEARN\n",
    "from xgboost.sklearn import XGBClassifier\n",
    "import scipy\n",
    "\n",
    "from sklearn.model_selection import cross_val_score\n",
    "from sklearn.linear_model import SGDClassifier\n",
    "from sklearn.model_selection import RandomizedSearchCV, GridSearchCV\n",
    "from sklearn import model_selection"
   ]
  },
  {
   "cell_type": "markdown",
   "metadata": {},
   "source": [
    "### Save Model For Productonization:"
   ]
  },
  {
   "cell_type": "code",
   "execution_count": 113,
   "metadata": {},
   "outputs": [],
   "source": [
    "from sklearn.externals import joblib\n",
    "def saveModeltofile(obj,filename):\n",
    "    joblib.dump(obj,open(filename+\".pkl\",\"wb\"))\n",
    "def openModelfromfile(filename):\n",
    "    temp = joblib.load(open(filename+\".pkl\",\"rb\"))\n",
    "    return temp"
   ]
  },
  {
   "cell_type": "markdown",
   "metadata": {
    "colab_type": "text",
    "id": "pUBrMJO08y_f"
   },
   "source": [
    "### Function for converting features to numerics :"
   ]
  },
  {
   "cell_type": "code",
   "execution_count": 114,
   "metadata": {
    "colab": {},
    "colab_type": "code",
    "id": "8aXJCeGM8y_i"
   },
   "outputs": [],
   "source": [
    "# after we read from sql table each entry was read it as a string\n",
    "# we convert all the features into numaric before we apply any model\n",
    "def to_numeric(data, isDF=True):\n",
    "    if isDF:\n",
    "        cols = list(data.columns)\n",
    "        for i in cols:\n",
    "            #print('column converted:', end=' ')\n",
    "            data[i] = data[i].apply(pd.to_numeric)\n",
    "           # print(i)\n",
    "    else:\n",
    "        # https://stackoverflow.com/questions/7368789/convert-all-strings-in-a-list-to-int\n",
    "        data = list(map(int, data.values))\n",
    "    return data"
   ]
  },
  {
   "cell_type": "markdown",
   "metadata": {
    "colab_type": "text",
    "id": "BTHls3B-8y_u"
   },
   "source": [
    "### Function for stacking matrix and array:"
   ]
  },
  {
   "cell_type": "code",
   "execution_count": 115,
   "metadata": {
    "colab": {},
    "colab_type": "code",
    "id": "BO3xvljf8y_x"
   },
   "outputs": [],
   "source": [
    "def hstack_sparse_with_dense(sparse_matrix, array):\n",
    "    stacked_mat=scipy.sparse.hstack((sparse_matrix, array))\n",
    "    return stacked_mat.tocsr()"
   ]
  },
  {
   "cell_type": "markdown",
   "metadata": {
    "colab_type": "text",
    "id": "g7Oxlnp58y_8"
   },
   "source": [
    "### Function for Random Model:"
   ]
  },
  {
   "cell_type": "code",
   "execution_count": 116,
   "metadata": {
    "colab": {},
    "colab_type": "code",
    "id": "Xan57j-48zAA"
   },
   "outputs": [],
   "source": [
    "# https://stackoverflow.com/questions/36089083/how-to-use-log-loss-in-sklearn-grid-search\n",
    "\n",
    "# we need to generate 9 numbers and the sum of numbers should be 1\n",
    "# one solution is to genarate 9 numbers and divide each of the numbers by their sum\n",
    "# ref: https://stackoverflow.com/a/18662466/4084039\n",
    "# we create a output array that has exactly same size as the CV data\n",
    "def random_model(y_test,model_summary):\n",
    "    predicted_y = np.zeros((len(y_test),2))\n",
    "    for i in range(len(y_test)):\n",
    "        rand_probs = np.random.rand(1,2)\n",
    "        predicted_y[i] = ((rand_probs/sum(sum(rand_probs)))[0])\n",
    "    loss=log_loss(y_test, predicted_y, eps=1e-15)\n",
    "    print(\"Log loss on Test Data using Random Model\",loss)\n",
    "\n",
    "    predicted_y =np.argmax(predicted_y, axis=1)\n",
    "    plot_confusion_matrix(y_test, predicted_y)\n",
    "    model_summary.add_row(['Random', \"%.4f\"%loss,\"%.4f\"%loss])\n",
    "    return predicted_y"
   ]
  },
  {
   "cell_type": "markdown",
   "metadata": {
    "colab_type": "text",
    "id": "aa2LwN-I8zAR"
   },
   "source": [
    "### Function for finding optimal value of hyperparameter and plot missclassification error vs hyperparam : \n",
    "### Logistic-regression"
   ]
  },
  {
   "cell_type": "code",
   "execution_count": 117,
   "metadata": {
    "colab": {},
    "colab_type": "code",
    "id": "01Fp5wYu8zAX"
   },
   "outputs": [],
   "source": [
    "##METHOD-1(CV USING SEARCHING ALGO)\n",
    "def linear_model_lr(x_train, y_train, x_test, y_test, params, CV, search='random'):\n",
    "    #INITIALIZE CLASSIFIER \n",
    "    clf=SGDClassifier(loss='log', class_weight='balanced', penalty='l2', random_state=32)\n",
    "    if search=='random':\n",
    "        model= RandomizedSearchCV(clf,\\\n",
    "                                  return_train_score=True,\\\n",
    "                                  param_distributions=params,\\\n",
    "                                  n_iter=len(params['alpha']),\\\n",
    "                                  n_jobs=-1,\\\n",
    "                                  cv=CV,\\\n",
    "                                  scoring='neg_log_loss')\n",
    "    model.fit(x_train, y_train)\n",
    "\n",
    "    train_score= abs(np.array(model.cv_results_['mean_train_score']))\n",
    "    cv_score= abs(np.array(model.cv_results_['mean_test_score']))\n",
    "\n",
    "    for i in range(len(params['alpha'])):\n",
    "        print('for alpha: %f,\\t\\t train log-loss: %.4f,\\t cv log-loss: %.4f'%( params['alpha'][i],train_score[i],cv_score[i]) )\n",
    "    print('\\n\\noptimal alpha:%f, log-loss: %.4f'%( model.best_params_['alpha'], abs(model.best_score_)))\n",
    "    plt.figure(1,figsize=(7,5))\n",
    "    sns.set_style('darkgrid')\n",
    "    plt.plot(params['alpha'], train_score, label='Train(Log-Loss)')\n",
    "    plt.plot(params['alpha'], cv_score, label='CrossValidation(Log-Loss)')\n",
    "    plt.title('Loss-Plot')\n",
    "    plt.legend()\n",
    "    plt.xlabel('Alpha: Hyperparam')\n",
    "    plt.ylabel('Log-Loss')\n",
    "    plt.show()\n",
    "    return model, abs(min(train_score))#model.best_score_)"
   ]
  },
  {
   "cell_type": "markdown",
   "metadata": {
    "colab_type": "text",
    "id": "Q-1CSout8zAs"
   },
   "source": [
    "### Function for finding optimal value of hyperparameter and plot missclassification error vs hyperparam :\n",
    "### Linear-SVM"
   ]
  },
  {
   "cell_type": "code",
   "execution_count": 118,
   "metadata": {
    "colab": {},
    "colab_type": "code",
    "id": "M_Vjv-5A8zAv"
   },
   "outputs": [],
   "source": [
    "def linear_model_svm(xtrain, ytrain, xtest, ytest, params):\n",
    "    #DISJOINT DATASET\n",
    "    loss_tr=[]\n",
    "    loss_cv=[]\n",
    "    #SPLIT DATA INTO TRAIN AND CV SET\n",
    "    xtr, xcv, ytr, ycv= train_test_split(xtrain, ytrain, test_size=.3, shuffle=True)\n",
    "    for alpha in params['alpha']:\n",
    "\n",
    "        clf=SGDClassifier(alpha=alpha, loss='hinge', penalty='l2', random_state=42, class_weight='balanced' , n_jobs=-1)\n",
    "    \n",
    "        #DISJOINT DATASET\n",
    "        #xtr, xcv, ytr, ycv= train_test_split(xtrain, ytrain, test_size=.3, shuffle=True)\n",
    "\n",
    "        #FIT FOR TRAIN DATA\n",
    "        clf.fit(xtr, ytr)\n",
    "\n",
    "        #CALIB MODEL\n",
    "        calib_clf=CalibratedClassifierCV(clf, method='sigmoid', cv=3)\n",
    "        calib_clf.fit(xtr, ytr)\n",
    "\n",
    "        #PRED PROBABILITY SCORE AND LOG-LOSS USING CALIB MODEL\n",
    "        y_proba_tr= calib_clf.predict_proba(xtr)[:,1]\n",
    "        loss_tr.append(log_loss(ytr, y_proba_tr, eps=1e-15))\n",
    "\n",
    "        y_proba_cv=calib_clf.predict_proba(xcv)[:,1]\n",
    "        loss_cv.append(log_loss(ycv, y_proba_cv, eps=1e-15))\n",
    "        \n",
    "    for i in range(len(params['alpha'])):\n",
    "        print('for alpha: %f,\\t\\t train log-loss: %.4f,\\t cv log-loss: %.4f'%( params['alpha'][i],loss_tr[i],loss_cv[i]) )\n",
    "    \n",
    "    #PRED LABELS FOR TEST DATA USING SGDC MODEL\n",
    "    optimal_param = params['alpha'][np.argmin(loss_cv)]\n",
    "    plt.figure(1,figsize=(7,5))\n",
    "    sns.set_style('darkgrid')\n",
    "    plt.plot(params['alpha'], loss_tr, label='Train Log-Loss')\n",
    "    plt.plot(params['alpha'], loss_cv, label='CV Log-Loss')\n",
    "    plt.xlabel('Alpha: Hyperparam')\n",
    "    plt.ylabel('Log-Loss')\n",
    "    plt.title('Loss-Plot')\n",
    "    plt.legend()\n",
    "    plt.show()\n",
    "    return optimal_param, min(loss_tr)\n"
   ]
  },
  {
   "cell_type": "markdown",
   "metadata": {},
   "source": [
    "### Function for finding optimal value of hyperparameter :\n",
    "### XGBOOST (GBDT)"
   ]
  },
  {
   "cell_type": "code",
   "execution_count": 119,
   "metadata": {},
   "outputs": [],
   "source": [
    "def Ensemble_Classifier(x_train,y_train,CV,params_, tune_param, searchMethod, param_name):\n",
    "    #INITIALIZE GBDT CLASSIFIER\n",
    "    clf=xgb.XGBClassifier(n_estimators=params_['n_estimators'],\\\n",
    "                          max_depth=params_['max_depth'],\\\n",
    "                          eta=.02,\\\n",
    "                          reg_alpha=params_['reg_alpha'],\\\n",
    "                          min_child_weight=params_['min_child_weight'],\\\n",
    "                          gamma=params_['gamma'],\\\n",
    "                          subsample=params_['subsample'],\\\n",
    "                          colsample_bytree=params_['colsample_bytree'],\\\n",
    "                          booster='gbtree',\\\n",
    "                          objective='binary:logistic')\n",
    "    # APPLY RANDOM OR GRID SEARCH FOR HYPERPARAMETER TUNNING\n",
    "    if searchMethod=='random':\n",
    "        ##len(params['max_depth']),\\\n",
    "        model=RandomizedSearchCV(clf,\\\n",
    "                               verbose=1,\\\n",
    "                               n_jobs=-1,\\\n",
    "                               cv=CV,\\\n",
    "                               param_distributions=tune_param,\\\n",
    "                               n_iter=3,\\\n",
    "                               return_train_score=True,\\\n",
    "                               scoring='neg_log_loss')#make_scorer(roc_auc_score,average='weighted'))\n",
    "    elif searchMethod=='grid':\n",
    "        model= GridSearchCV(estimator=clf,\\\n",
    "                          verbose=1,\\\n",
    "                          param_grid=tune_param,\\\n",
    "                          scoring='neg_log_loss',\\\n",
    "                          n_jobs=-1,\\\n",
    "                          cv=CV,\\\n",
    "                          return_train_score=True\n",
    "                         )\n",
    "    model.fit(x_train,y_train)\n",
    "    #PLOT THE PERFORMANCE OF MODEL ON CROSSVALIDATION DATA FOR EACH HYPERPARAM VALUE\n",
    "    train_loss = abs(model.cv_results_['mean_train_score'])\n",
    "    cv_loss = abs(model.cv_results_['mean_test_score'])\n",
    "    #if len(param_name.split())==1:\n",
    "    for i in range(len(train_loss)):\n",
    "        print('Train Log-Loss: %.4f'%train_loss[i],'CV Log-Loss: %.4f'%cv_loss[i])\n",
    "    '''plt.figure(1, figsize=(7,5))\n",
    "    sns.set_style('darkgrid')\n",
    "    plt.title('Loss-Plot')\n",
    "    plt.xlabel('Hyperparam')\n",
    "    plt.ylabel('Log-Loss')\n",
    "    plt.plot(params_[param_name], train_loss, label='Train')\n",
    "    plt.plot(params_[param_name], cv_loss, label='Train')\n",
    "    plt.legend()\n",
    "    plt.show()'''\n",
    "    #elif len(param_name.split())==2:\n",
    "    #    hyperparam_matrix(train_loss, cv_loss, param_list=param_name.split())\n",
    "\n",
    "    return model"
   ]
  },
  {
   "cell_type": "markdown",
   "metadata": {
    "colab_type": "text",
    "id": "VS7IdBLr8zBB"
   },
   "source": [
    "### Function for measuring performance on test data (linear models):"
   ]
  },
  {
   "cell_type": "code",
   "execution_count": 120,
   "metadata": {
    "colab": {},
    "colab_type": "code",
    "id": "EzUW3kiG8zBL"
   },
   "outputs": [],
   "source": [
    "def test_performance_linear(param, x_train, y_train, x_test, y_test, model_summary, train_loss, model_use, loss='log'):\n",
    "    #SGDC CLASSIFIER \n",
    "    clf=SGDClassifier(alpha=param,\\\n",
    "                      loss=loss,\\\n",
    "                      penalty='l2',\\\n",
    "                      random_state=42,\\\n",
    "                      n_jobs=-1,\\\n",
    "                      class_weight='balanced')\n",
    "    clf.fit(x_train, y_train)\n",
    "\n",
    "    #CALIB CLASSIFIER\n",
    "    cal_clf=CalibratedClassifierCV(clf, method='sigmoid', cv=3)\n",
    "    cal_clf.fit(x_train, y_train)\n",
    "\n",
    "    #PREDICT CLASS LABEL USING SGDC MODEL\n",
    "    y_pred=clf.predict(x_test)\n",
    "    #PREDICT PROBA USING CALIB MODEL\n",
    "    y_prob=cal_clf.predict_proba(x_test)[:,1]\n",
    "    #PLOT CONFUSION MATRIX\n",
    "    plot_confusion_matrix(y_test, y_pred)\n",
    "    #TEST LOSS\n",
    "    loss=log_loss(y_test, y_prob, eps=1e-15)\n",
    "    print('test log-loss: %.4f'%loss)\n",
    "    model_summary.add_row([model_use, '%.4f'%train_loss, '%.4f'%loss])"
   ]
  },
  {
   "cell_type": "markdown",
   "metadata": {},
   "source": [
    "### Function for measuring performance on test data (XGBOOST model):"
   ]
  },
  {
   "cell_type": "code",
   "execution_count": 121,
   "metadata": {},
   "outputs": [],
   "source": [
    "def test_performance(x_train,y_train,x_test,y_test,params_,model_use=None,summary=False):\n",
    "    '''FUNCTION FOR TEST PERFORMANCE(PLOT ROC CURVE FOR BOTH TRAIN AND TEST) WITH OPTIMAL HYPERPARAM'''\n",
    "    #INITIALIZE GBDT WITH OPTIMAL VALUE OF HYPERPARAMS\n",
    "    clf=xgb.XGBClassifier(n_estimators=params_['n_estimators'],\\\n",
    "                          max_depth=params_['max_depth'],\\\n",
    "                          eta=.02,\\\n",
    "                          reg_alpha=params_['reg_alpha'],\\\n",
    "                          min_child_weight=params_['min_child_weight'],\\\n",
    "                          gamma=params_['gamma'],\\\n",
    "                          subsample=params_['subsample'],\\\n",
    "                          colsample_bytree=params_['colsample_bytree'],\\\n",
    "                          booster='gbtree',\\\n",
    "                          objective='binary:logistic',\\\n",
    "                         verbose=1)\n",
    "   \n",
    "    clf.fit(x_train, y_train)\n",
    "    y_pred=clf.predict(x_test)\n",
    "    y_proba=clf.predict_proba(x_test)[:,1]\n",
    "    test_loss=log_loss(y_test, y_proba, labels=np.array([0,1]), eps=1e-15)\n",
    "    print('test_loss:',test_loss)\n",
    "    plot_confusion_matrix(y_test, y_pred)\n",
    "    if summary:\n",
    "        y_proba_tr=clf.predict_proba(x_train)[:,1]\n",
    "        train_loss=log_loss(y_train, y_proba_tr, labels=np.array([0,1]), eps=1e-15)\n",
    "        model_summary.add_row([model_use, '%.4f'%train_loss,'%.4f'%test_loss])"
   ]
  },
  {
   "cell_type": "markdown",
   "metadata": {
    "colab_type": "text",
    "id": "hf_Z2TFo8zBu"
   },
   "source": [
    "### Function for filling Nan and None values:"
   ]
  },
  {
   "cell_type": "code",
   "execution_count": 122,
   "metadata": {
    "colab": {},
    "colab_type": "code",
    "id": "txiMJZyt8zB0"
   },
   "outputs": [],
   "source": [
    "def fill_none(data):\n",
    "    data = data.fillna('')\n",
    "    nan_rows = data[data.isnull().any(1)]\n",
    "    print(nan_rows)\n",
    "    return data"
   ]
  },
  {
   "cell_type": "markdown",
   "metadata": {
    "colab_type": "text",
    "id": "PyhrpGya8zCE"
   },
   "source": [
    "### Function for Standardizing data:"
   ]
  },
  {
   "cell_type": "code",
   "execution_count": 123,
   "metadata": {
    "colab": {},
    "colab_type": "code",
    "id": "J8PMqf-18zCJ"
   },
   "outputs": [],
   "source": [
    "def std_data(train,test,mean):\n",
    "    scaler=StandardScaler(with_mean=mean)\n",
    "    std_train=scaler.fit_transform(train)\n",
    "    std_test=scaler.transform(test)\n",
    "    return std_train, std_test"
   ]
  },
  {
   "cell_type": "markdown",
   "metadata": {
    "colab_type": "text",
    "id": "aYSmtTjA8zCl"
   },
   "source": [
    "### Function for plotting confusion matrix:"
   ]
  },
  {
   "cell_type": "code",
   "execution_count": 124,
   "metadata": {
    "colab": {},
    "colab_type": "code",
    "id": "F1-7ll0C8zCr"
   },
   "outputs": [],
   "source": [
    "# This function plots the confusion matrices given y_i, y_i_hat.\n",
    "def plot_confusion_matrix(test_y, predict_y):\n",
    "    C = confusion_matrix(test_y, predict_y)\n",
    "    # C = 9,9 matrix, each cell (i,j) represents number of points of class i are predicted class j\n",
    "    #precision\n",
    "    A =(((C.T)/(C.sum(axis=1))).T)\n",
    "    #recall\n",
    "    B =(C/C.sum(axis=0))\n",
    "    \n",
    "    plt.figure(figsize=(16,4))    \n",
    "    labels = [1,2]\n",
    "    i=131\n",
    "    # representing A in heatmap format\n",
    "    cmap=sns.light_palette('blue')\n",
    "    for mat in [C,A,B]:\n",
    "        plt.subplot(i)\n",
    "        sns.heatmap(mat, annot=True, cmap=cmap, fmt=\".3f\", xticklabels=labels, yticklabels=labels)\n",
    "        plt.xlabel('Predicted Class')\n",
    "        plt.ylabel('Original Class')\n",
    "        plt.title(\"Confusion matrix\")\n",
    "        i+=1\n",
    "    plt.show()"
   ]
  },
  {
   "cell_type": "markdown",
   "metadata": {
    "colab_type": "text",
    "id": "oLJzUS5t8zC3"
   },
   "source": [
    "## 4. Machine Learning Models"
   ]
  },
  {
   "cell_type": "code",
   "execution_count": 125,
   "metadata": {
    "colab": {},
    "colab_type": "code",
    "id": "VUGjckG68zC6"
   },
   "outputs": [],
   "source": [
    "model_summary=PrettyTable()\n",
    "model_summary.field_names = ['Model', 'Train(Log-Loss)', 'Test(Log-Loss)']"
   ]
  },
  {
   "cell_type": "markdown",
   "metadata": {
    "colab_type": "text",
    "id": "-LqUBHi68zDD"
   },
   "source": [
    "### 4.1 Reading data from file and storing into sql table"
   ]
  },
  {
   "cell_type": "code",
   "execution_count": 126,
   "metadata": {
    "colab": {},
    "colab_type": "code",
    "id": "E0kvzB5g8zDI"
   },
   "outputs": [],
   "source": [
    "#Creating db file from csv\n",
    "if not os.path.isfile('train.db'):\n",
    "    disk_engine = create_engine('sqlite:///train.db')\n",
    "    start = dt.datetime.now()\n",
    "    chunksize = 180000\n",
    "    j = 0\n",
    "    index_start = 1\n",
    "    col_ylabel=[str(i)+'_y' for i in range(0,96,1)]\n",
    "    col_xlabel=[str(i)+'_x' for i in range(0,96,1)]\n",
    "    col_names=['Unnamed: 0','id','is_duplicate','cwc_min','cwc_max','csc_min','csc_max','ctc_min',\\\n",
    "       'ctc_max','last_word_eq','first_word_eq','abs_len_diff','mean_len','token_set_ratio',\\\n",
    "       'token_sort_ratio','fuzz_ratio','fuzz_partial_ratio','longest_substr_ratio','freq_qid1',\\\n",
    "       'freq_qid2','q1len','q2len','q1_n_words','q2_n_words','word_Common','word_Total','word_share',\\\n",
    "       'freq_q1+q2','freq_q1-q2']\n",
    "    \n",
    "    l=[]\n",
    "    l.extend(col_names)\n",
    "    l.extend(col_xlabel)\n",
    "    l.extend(col_ylabel)\n",
    "    for df in pd.read_csv('final_features.csv', names=l, chunksize=chunksize, iterator=True, encoding='utf-8'): \n",
    "        df.index += index_start\n",
    "        j+=1\n",
    "        print('{} rows'.format(j*chunksize))\n",
    "        df.to_sql('data', disk_engine, if_exists='append')\n",
    "        index_start = df.index[-1] + 1\n",
    "    j = 0\n",
    "    col_names=['Unnamed: 0','id', 'question1', 'question2','is_duplicate','cwc_min','cwc_max','csc_min','csc_max','ctc_min',\\\n",
    "       'ctc_max','last_word_eq','first_word_eq','abs_len_diff','mean_len','token_set_ratio',\\\n",
    "       'token_sort_ratio','fuzz_ratio','fuzz_partial_ratio','longest_substr_ratio','freq_qid1',\\\n",
    "       'freq_qid2','q1len','q2len','q1_n_words','q2_n_words','word_Common','word_Total','word_share',\\\n",
    "       'freq_q1+q2','freq_q1-q2']\n",
    "    index_start = 1\n",
    "    for df in pd.read_csv('final_features_tf.csv', names=col_names, chunksize=chunksize, iterator=True, encoding='utf-8'): \n",
    "        df.index += index_start\n",
    "        j+=1\n",
    "        print('{} rows'.format(j*chunksize))\n",
    "        df.to_sql('data_tf', disk_engine, if_exists='append')\n",
    "        index_start = df.index[-1] + 1"
   ]
  },
  {
   "cell_type": "markdown",
   "metadata": {
    "colab_type": "text",
    "id": "vK4iIkkg8zDZ"
   },
   "source": [
    "### 4.2 Function for connecting to database and checking for existance of table:"
   ]
  },
  {
   "cell_type": "code",
   "execution_count": 127,
   "metadata": {
    "colab": {},
    "colab_type": "code",
    "id": "wwl5jypP8zDc"
   },
   "outputs": [],
   "source": [
    "#http://www.sqlitetutorial.net/sqlite-python/create-tables/\n",
    "def create_connection(db_file):\n",
    "    \"\"\" create a database connection to the SQLite database specified by db_file\n",
    "        :db_file : database file\n",
    "        :return  : Connection object or None\n",
    "    \"\"\"\n",
    "    try:\n",
    "        conn = sqlite3.connect(db_file)\n",
    "        return conn\n",
    "    except Error as e:\n",
    "        print(e)\n",
    " \n",
    "    return None\n",
    "\n",
    "\n",
    "def checkTableExists(dbcon):\n",
    "    cursr = dbcon.cursor()\n",
    "    str = \"select name from sqlite_master where type='table'\"\n",
    "    table_names = cursr.execute(str)\n",
    "    print(\"Tables in the databse:\")\n",
    "    tables =table_names.fetchall() \n",
    "    print(tables[0][0])\n",
    "    return(len(tables))"
   ]
  },
  {
   "cell_type": "code",
   "execution_count": 128,
   "metadata": {
    "colab": {},
    "colab_type": "code",
    "id": "Wk1XESh88zDq",
    "outputId": "5ea191a1-4a4c-4ab3-ddf3-5363f1a49ef2"
   },
   "outputs": [
    {
     "name": "stdout",
     "output_type": "stream",
     "text": [
      "Tables in the databse:\n",
      "data\n"
     ]
    }
   ],
   "source": [
    "read_db = 'train.db'\n",
    "conn_r = create_connection(read_db)\n",
    "checkTableExists(conn_r)\n",
    "conn_r.close()"
   ]
  },
  {
   "cell_type": "markdown",
   "metadata": {
    "colab_type": "text",
    "id": "RpzDSce78zD_"
   },
   "source": [
    "### 4.3 Sample Data:"
   ]
  },
  {
   "cell_type": "code",
   "execution_count": 129,
   "metadata": {
    "colab": {},
    "colab_type": "code",
    "id": "QaPh4Win8zEC"
   },
   "outputs": [
    {
     "name": "stdout",
     "output_type": "stream",
     "text": [
      "CPU times: user 39.3 s, sys: 12.4 s, total: 51.7 s\n",
      "Wall time: 51.7 s\n"
     ]
    }
   ],
   "source": [
    "%%time\n",
    "# try to sample data according to the computing power you have\n",
    "if os.path.isfile(read_db):\n",
    "    conn_r = create_connection(read_db)\n",
    "    if conn_r is not None:\n",
    "        # for selecting first 1M rows\n",
    "        # data = pd.read_sql_query(\"\"\"SELECT * FROM data LIMIT 100001;\"\"\", conn_r)\n",
    "        \n",
    "        # for selecting random points\n",
    "        data_tf = pd.read_sql_query(\"SELECT * From data_tf ORDER BY RANDOM() LIMIT 200001;\", conn_r)\n",
    "        data=pd.read_sql_query(\"SELECT * From data ORDER BY RANDOM() LIMIT 80001;\", conn_r)\n",
    "        conn_r.commit()\n",
    "        conn_r.close()"
   ]
  },
  {
   "cell_type": "code",
   "execution_count": 130,
   "metadata": {
    "colab": {},
    "colab_type": "code",
    "id": "zftWAYgE8zEK"
   },
   "outputs": [],
   "source": [
    "# remove the first row \n",
    "data.drop(data.index[0], inplace=True)\n",
    "data_tf.drop(data_tf.index[0], inplace=True)\n",
    "y_true = data['is_duplicate']\n",
    "y_true_tf = data_tf['is_duplicate']\n",
    "data.drop(['Unnamed: 0', 'id','index','is_duplicate'], axis=1, inplace=True)\n",
    "data_tf.drop(['Unnamed: 0', 'id','index','is_duplicate'], axis=1, inplace=True)"
   ]
  },
  {
   "cell_type": "code",
   "execution_count": 131,
   "metadata": {
    "colab": {},
    "colab_type": "code",
    "id": "hTJIgYVQ8zES",
    "outputId": "4f103160-9f30-4925-e4c9-2d1eef30d9c6"
   },
   "outputs": [
    {
     "data": {
      "text/html": [
       "<div>\n",
       "<style scoped>\n",
       "    .dataframe tbody tr th:only-of-type {\n",
       "        vertical-align: middle;\n",
       "    }\n",
       "\n",
       "    .dataframe tbody tr th {\n",
       "        vertical-align: top;\n",
       "    }\n",
       "\n",
       "    .dataframe thead th {\n",
       "        text-align: right;\n",
       "    }\n",
       "</style>\n",
       "<table border=\"1\" class=\"dataframe\">\n",
       "  <thead>\n",
       "    <tr style=\"text-align: right;\">\n",
       "      <th></th>\n",
       "      <th>cwc_min</th>\n",
       "      <th>cwc_max</th>\n",
       "      <th>csc_min</th>\n",
       "      <th>csc_max</th>\n",
       "      <th>ctc_min</th>\n",
       "      <th>ctc_max</th>\n",
       "      <th>last_word_eq</th>\n",
       "      <th>first_word_eq</th>\n",
       "      <th>abs_len_diff</th>\n",
       "      <th>mean_len</th>\n",
       "      <th>...</th>\n",
       "      <th>86_y</th>\n",
       "      <th>87_y</th>\n",
       "      <th>88_y</th>\n",
       "      <th>89_y</th>\n",
       "      <th>90_y</th>\n",
       "      <th>91_y</th>\n",
       "      <th>92_y</th>\n",
       "      <th>93_y</th>\n",
       "      <th>94_y</th>\n",
       "      <th>95_y</th>\n",
       "    </tr>\n",
       "  </thead>\n",
       "  <tbody>\n",
       "    <tr>\n",
       "      <th>1</th>\n",
       "      <td>0.66664444518516</td>\n",
       "      <td>0.399992000159997</td>\n",
       "      <td>0.749981250468738</td>\n",
       "      <td>0.599988000239995</td>\n",
       "      <td>0.714275510349852</td>\n",
       "      <td>0.49999500005</td>\n",
       "      <td>0.0</td>\n",
       "      <td>1.0</td>\n",
       "      <td>3.0</td>\n",
       "      <td>8.5</td>\n",
       "      <td>...</td>\n",
       "      <td>85.5097627639771</td>\n",
       "      <td>-7.54292798042297</td>\n",
       "      <td>61.9019415974617</td>\n",
       "      <td>12.2115749120712</td>\n",
       "      <td>71.5563457012177</td>\n",
       "      <td>-28.3216259479523</td>\n",
       "      <td>42.519225358963</td>\n",
       "      <td>-28.6141560077667</td>\n",
       "      <td>39.963206321001</td>\n",
       "      <td>-11.8875995874405</td>\n",
       "    </tr>\n",
       "    <tr>\n",
       "      <th>2</th>\n",
       "      <td>0.33332222259258</td>\n",
       "      <td>0.199996000079998</td>\n",
       "      <td>0.499991666805553</td>\n",
       "      <td>0.428565306209911</td>\n",
       "      <td>0.39999600004</td>\n",
       "      <td>0.363633057881292</td>\n",
       "      <td>0.0</td>\n",
       "      <td>1.0</td>\n",
       "      <td>1.0</td>\n",
       "      <td>10.5</td>\n",
       "      <td>...</td>\n",
       "      <td>47.8613561540842</td>\n",
       "      <td>-39.858944597654</td>\n",
       "      <td>20.6507384181023</td>\n",
       "      <td>53.8379226326942</td>\n",
       "      <td>-18.7407361268997</td>\n",
       "      <td>59.3067175745964</td>\n",
       "      <td>-24.4632618427277</td>\n",
       "      <td>-20.1448073387146</td>\n",
       "      <td>-46.9061796665192</td>\n",
       "      <td>-7.27682149410248</td>\n",
       "    </tr>\n",
       "  </tbody>\n",
       "</table>\n",
       "<p>2 rows × 218 columns</p>\n",
       "</div>"
      ],
      "text/plain": [
       "            cwc_min            cwc_max            csc_min            csc_max  \\\n",
       "1  0.66664444518516  0.399992000159997  0.749981250468738  0.599988000239995   \n",
       "2  0.33332222259258  0.199996000079998  0.499991666805553  0.428565306209911   \n",
       "\n",
       "             ctc_min            ctc_max last_word_eq first_word_eq  \\\n",
       "1  0.714275510349852      0.49999500005          0.0           1.0   \n",
       "2      0.39999600004  0.363633057881292          0.0           1.0   \n",
       "\n",
       "  abs_len_diff mean_len  ...              86_y               87_y  \\\n",
       "1          3.0      8.5  ...  85.5097627639771  -7.54292798042297   \n",
       "2          1.0     10.5  ...  47.8613561540842   -39.858944597654   \n",
       "\n",
       "               88_y              89_y               90_y               91_y  \\\n",
       "1  61.9019415974617  12.2115749120712   71.5563457012177  -28.3216259479523   \n",
       "2  20.6507384181023  53.8379226326942  -18.7407361268997   59.3067175745964   \n",
       "\n",
       "                92_y               93_y               94_y               95_y  \n",
       "1    42.519225358963  -28.6141560077667    39.963206321001  -11.8875995874405  \n",
       "2  -24.4632618427277  -20.1448073387146  -46.9061796665192  -7.27682149410248  \n",
       "\n",
       "[2 rows x 218 columns]"
      ]
     },
     "execution_count": 131,
     "metadata": {},
     "output_type": "execute_result"
    }
   ],
   "source": [
    "data.head(2)"
   ]
  },
  {
   "cell_type": "code",
   "execution_count": 132,
   "metadata": {
    "colab": {},
    "colab_type": "code",
    "id": "gXhZ9rhh8zEh",
    "outputId": "2665c3e4-5e73-4345-a93c-06caab325b36"
   },
   "outputs": [
    {
     "data": {
      "text/html": [
       "<div>\n",
       "<style scoped>\n",
       "    .dataframe tbody tr th:only-of-type {\n",
       "        vertical-align: middle;\n",
       "    }\n",
       "\n",
       "    .dataframe tbody tr th {\n",
       "        vertical-align: top;\n",
       "    }\n",
       "\n",
       "    .dataframe thead th {\n",
       "        text-align: right;\n",
       "    }\n",
       "</style>\n",
       "<table border=\"1\" class=\"dataframe\">\n",
       "  <thead>\n",
       "    <tr style=\"text-align: right;\">\n",
       "      <th></th>\n",
       "      <th>question1</th>\n",
       "      <th>question2</th>\n",
       "      <th>cwc_min</th>\n",
       "      <th>cwc_max</th>\n",
       "      <th>csc_min</th>\n",
       "      <th>csc_max</th>\n",
       "      <th>ctc_min</th>\n",
       "      <th>ctc_max</th>\n",
       "      <th>last_word_eq</th>\n",
       "      <th>first_word_eq</th>\n",
       "      <th>...</th>\n",
       "      <th>freq_qid2</th>\n",
       "      <th>q1len</th>\n",
       "      <th>q2len</th>\n",
       "      <th>q1_n_words</th>\n",
       "      <th>q2_n_words</th>\n",
       "      <th>word_Common</th>\n",
       "      <th>word_Total</th>\n",
       "      <th>word_share</th>\n",
       "      <th>freq_q1+q2</th>\n",
       "      <th>freq_q1-q2</th>\n",
       "    </tr>\n",
       "  </thead>\n",
       "  <tbody>\n",
       "    <tr>\n",
       "      <th>1</th>\n",
       "      <td>what does donald trump own victory mean for si...</td>\n",
       "      <td>how would a trump presidency affect silicon va...</td>\n",
       "      <td>0.499991666805553</td>\n",
       "      <td>0.499991666805553</td>\n",
       "      <td>0.0</td>\n",
       "      <td>0.0</td>\n",
       "      <td>0.374995312558593</td>\n",
       "      <td>0.29999700003</td>\n",
       "      <td>1.0</td>\n",
       "      <td>0.0</td>\n",
       "      <td>...</td>\n",
       "      <td>3</td>\n",
       "      <td>57</td>\n",
       "      <td>51</td>\n",
       "      <td>9</td>\n",
       "      <td>8</td>\n",
       "      <td>2.0</td>\n",
       "      <td>17.0</td>\n",
       "      <td>0.117647058823529</td>\n",
       "      <td>5</td>\n",
       "      <td>1</td>\n",
       "    </tr>\n",
       "    <tr>\n",
       "      <th>2</th>\n",
       "      <td>can you give a ticket to a cop for speeding or...</td>\n",
       "      <td>can a cop give you a ticket for running a stop...</td>\n",
       "      <td>0.428565306209911</td>\n",
       "      <td>0.374995312558593</td>\n",
       "      <td>0.799984000319994</td>\n",
       "      <td>0.444439506227709</td>\n",
       "      <td>0.43749726564209</td>\n",
       "      <td>0.411762283751272</td>\n",
       "      <td>0.0</td>\n",
       "      <td>1.0</td>\n",
       "      <td>...</td>\n",
       "      <td>2</td>\n",
       "      <td>82</td>\n",
       "      <td>70</td>\n",
       "      <td>17</td>\n",
       "      <td>16</td>\n",
       "      <td>7.0</td>\n",
       "      <td>29.0</td>\n",
       "      <td>0.241379310344828</td>\n",
       "      <td>3</td>\n",
       "      <td>1</td>\n",
       "    </tr>\n",
       "  </tbody>\n",
       "</table>\n",
       "<p>2 rows × 28 columns</p>\n",
       "</div>"
      ],
      "text/plain": [
       "                                           question1  \\\n",
       "1  what does donald trump own victory mean for si...   \n",
       "2  can you give a ticket to a cop for speeding or...   \n",
       "\n",
       "                                           question2            cwc_min  \\\n",
       "1  how would a trump presidency affect silicon va...  0.499991666805553   \n",
       "2  can a cop give you a ticket for running a stop...  0.428565306209911   \n",
       "\n",
       "             cwc_max            csc_min            csc_max            ctc_min  \\\n",
       "1  0.499991666805553                0.0                0.0  0.374995312558593   \n",
       "2  0.374995312558593  0.799984000319994  0.444439506227709   0.43749726564209   \n",
       "\n",
       "             ctc_max last_word_eq first_word_eq  ... freq_qid2 q1len q2len  \\\n",
       "1      0.29999700003          1.0           0.0  ...         3    57    51   \n",
       "2  0.411762283751272          0.0           1.0  ...         2    82    70   \n",
       "\n",
       "  q1_n_words q2_n_words word_Common word_Total         word_share freq_q1+q2  \\\n",
       "1          9          8         2.0       17.0  0.117647058823529          5   \n",
       "2         17         16         7.0       29.0  0.241379310344828          3   \n",
       "\n",
       "  freq_q1-q2  \n",
       "1          1  \n",
       "2          1  \n",
       "\n",
       "[2 rows x 28 columns]"
      ]
     },
     "execution_count": 132,
     "metadata": {},
     "output_type": "execute_result"
    }
   ],
   "source": [
    "data_tf.head(2)"
   ]
  },
  {
   "cell_type": "markdown",
   "metadata": {
    "colab_type": "text",
    "id": "UL8kglOh8zEt"
   },
   "source": [
    "### 4.4 Fill none and NaN:"
   ]
  },
  {
   "cell_type": "code",
   "execution_count": 133,
   "metadata": {
    "colab": {},
    "colab_type": "code",
    "id": "ZfdKPGea8zEw",
    "outputId": "a1c28fcb-8e8f-46ef-9719-7ef24ffceb0d"
   },
   "outputs": [
    {
     "name": "stdout",
     "output_type": "stream",
     "text": [
      "Empty DataFrame\n",
      "Columns: [question1, question2, cwc_min, cwc_max, csc_min, csc_max, ctc_min, ctc_max, last_word_eq, first_word_eq, abs_len_diff, mean_len, token_set_ratio, token_sort_ratio, fuzz_ratio, fuzz_partial_ratio, longest_substr_ratio, freq_qid1, freq_qid2, q1len, q2len, q1_n_words, q2_n_words, word_Common, word_Total, word_share, freq_q1+q2, freq_q1-q2]\n",
      "Index: []\n",
      "\n",
      "[0 rows x 28 columns]\n",
      "Empty DataFrame\n",
      "Columns: [cwc_min, cwc_max, csc_min, csc_max, ctc_min, ctc_max, last_word_eq, first_word_eq, abs_len_diff, mean_len, token_set_ratio, token_sort_ratio, fuzz_ratio, fuzz_partial_ratio, longest_substr_ratio, freq_qid1, freq_qid2, q1len, q2len, q1_n_words, q2_n_words, word_Common, word_Total, word_share, freq_q1+q2, freq_q1-q2, 0_x, 1_x, 2_x, 3_x, 4_x, 5_x, 6_x, 7_x, 8_x, 9_x, 10_x, 11_x, 12_x, 13_x, 14_x, 15_x, 16_x, 17_x, 18_x, 19_x, 20_x, 21_x, 22_x, 23_x, 24_x, 25_x, 26_x, 27_x, 28_x, 29_x, 30_x, 31_x, 32_x, 33_x, 34_x, 35_x, 36_x, 37_x, 38_x, 39_x, 40_x, 41_x, 42_x, 43_x, 44_x, 45_x, 46_x, 47_x, 48_x, 49_x, 50_x, 51_x, 52_x, 53_x, 54_x, 55_x, 56_x, 57_x, 58_x, 59_x, 60_x, 61_x, 62_x, 63_x, 64_x, 65_x, 66_x, 67_x, 68_x, 69_x, 70_x, 71_x, 72_x, 73_x, ...]\n",
      "Index: []\n",
      "\n",
      "[0 rows x 218 columns]\n",
      "CPU times: user 14 s, sys: 532 ms, total: 14.5 s\n",
      "Wall time: 14.5 s\n"
     ]
    }
   ],
   "source": [
    "%%time\n",
    "data_tf = fill_none(data_tf)\n",
    "data = fill_none(data)"
   ]
  },
  {
   "cell_type": "markdown",
   "metadata": {
    "colab_type": "text",
    "id": "-WxpDuid8zE7"
   },
   "source": [
    "### 4.5 convert to numerics"
   ]
  },
  {
   "cell_type": "code",
   "execution_count": 134,
   "metadata": {
    "colab": {},
    "colab_type": "code",
    "id": "xlAFNSEg8zE-"
   },
   "outputs": [
    {
     "name": "stdout",
     "output_type": "stream",
     "text": [
      "CPU times: user 11min 1s, sys: 15.5 s, total: 11min 16s\n",
      "Wall time: 11min 16s\n"
     ]
    }
   ],
   "source": [
    "%%time\n",
    "data = to_numeric(data)\n",
    "y_true = to_numeric(y_true,isDF=False)\n",
    "\n",
    "qq_data = data_tf[['question1','question2']]\n",
    "cols=list(data_tf.columns)\n",
    "cols.remove('question1')\n",
    "cols.remove('question2')\n",
    "numeric_data = to_numeric(data_tf[cols])\n",
    "data_tf = pd.concat([qq_data, numeric_data], axis=1)\n",
    "y_true_tf = to_numeric(y_true_tf,isDF=False)"
   ]
  },
  {
   "cell_type": "markdown",
   "metadata": {
    "colab_type": "text",
    "id": "dys61puo8zFR"
   },
   "source": [
    "### 4.6 Split data to train and test set:"
   ]
  },
  {
   "cell_type": "code",
   "execution_count": 135,
   "metadata": {
    "colab": {},
    "colab_type": "code",
    "id": "Z3GuGcPk8zFY"
   },
   "outputs": [],
   "source": [
    "X_train, X_test, y_train, y_test = train_test_split(data, y_true, test_size=0.3)\n",
    "X_train_tf, X_test_tf, y_train_tf, y_test_tf = train_test_split(data_tf, y_true_tf,test_size=0.3 )"
   ]
  },
  {
   "cell_type": "code",
   "execution_count": 136,
   "metadata": {
    "colab": {},
    "colab_type": "code",
    "id": "0s548IuS8zGD"
   },
   "outputs": [],
   "source": [
    "x_train_qq = X_train_tf['question1']+' '+X_train_tf['question2']\n",
    "x_test_qq = X_test_tf['question1']+' '+X_test_tf['question2']"
   ]
  },
  {
   "cell_type": "markdown",
   "metadata": {
    "colab_type": "text",
    "id": "m9zqdQLg8zGY"
   },
   "source": [
    "### 4.7 Function for featurizing data :"
   ]
  },
  {
   "cell_type": "code",
   "execution_count": 137,
   "metadata": {
    "colab": {},
    "colab_type": "code",
    "id": "b8Zndqz18zGd"
   },
   "outputs": [],
   "source": [
    "def tfidfVector(X_train,X_test,max_features=None):\n",
    "    tf_idf_vect = TfidfVectorizer(ngram_range=(1,1),min_df=10,max_features=max_features)\n",
    "    X_train_tfidf = tf_idf_vect.fit_transform(X_train)\n",
    "    print(\"the type of count vectorizer: \",type(X_train_tfidf))\n",
    "    print(\"the shape of out text TFIDF vectorizer: \",X_train_tfidf.get_shape())\n",
    "    print(\"the number of unique words including both unigrams and bigrams: \", X_train_tfidf.get_shape()[1])\n",
    "\n",
    "    #processing of test data(convert test data into numerical vectors)\n",
    "    X_test_tfidf  = tf_idf_vect.transform(X_test)\n",
    "    print(\"the shape of out text BOW vectorizer: \",X_test_tfidf.get_shape())\n",
    "    return tf_idf_vect, X_train_tfidf, X_test_tfidf"
   ]
  },
  {
   "cell_type": "code",
   "execution_count": 138,
   "metadata": {
    "colab": {},
    "colab_type": "code",
    "id": "39ripZ7M8zGv",
    "outputId": "f5894818-d693-44b0-9fdf-19f1ecb0c018"
   },
   "outputs": [
    {
     "name": "stdout",
     "output_type": "stream",
     "text": [
      "the type of count vectorizer:  <class 'scipy.sparse.csr.csr_matrix'>\n",
      "the shape of out text TFIDF vectorizer:  (140000, 10576)\n",
      "the number of unique words including both unigrams and bigrams:  10576\n",
      "the shape of out text BOW vectorizer:  (60000, 10576)\n",
      "CPU times: user 4.54 s, sys: 4 ms, total: 4.54 s\n",
      "Wall time: 4.55 s\n",
      "\n"
     ]
    }
   ],
   "source": [
    "# Tfidf vector with all features which we use for brute force implementation\n",
    "%time tf_idf_vect_q1, X_train_tfidf_q1, X_test_tfidf_q1 = tfidfVector(x_train_qq.values,\\\n",
    "                                                                      x_test_qq.values,\\\n",
    "                                                                      max_features=None)\n",
    "print()\n",
    "#%time tf_idf_vect_q2, X_train_tfidf_q2, X_test_tfidf_q2 = tfidfVector(x_train_tf_q2.values,\\\n",
    "#                                                                      x_test_tf_q2.values,\\\n",
    "#                                                                      max_features=None)"
   ]
  },
  {
   "cell_type": "markdown",
   "metadata": {
    "colab_type": "text",
    "id": "RPwQU8-o8zHD"
   },
   "source": [
    "### 4.8 Stack TFIDF matrix with other features"
   ]
  },
  {
   "cell_type": "code",
   "execution_count": 139,
   "metadata": {
    "colab": {},
    "colab_type": "code",
    "id": "AMhV7bkS8zHG",
    "outputId": "ade17bfd-332c-4756-d73c-67ca7fb68a95"
   },
   "outputs": [
    {
     "name": "stdout",
     "output_type": "stream",
     "text": [
      "(140000, 10602)\n"
     ]
    }
   ],
   "source": [
    "stacked_tf_data_train=hstack_sparse_with_dense(X_train_tfidf_q1, np.array(X_train_tf.drop(['question1','question2'],axis=1)))\n",
    "print(stacked_tf_data_train.shape)"
   ]
  },
  {
   "cell_type": "code",
   "execution_count": 140,
   "metadata": {
    "colab": {},
    "colab_type": "code",
    "id": "vF_239d-8zHO",
    "outputId": "d8e60cb4-b1b8-47f5-b3a1-bf3bbf1eefa3"
   },
   "outputs": [
    {
     "name": "stdout",
     "output_type": "stream",
     "text": [
      "(60000, 10602)\n"
     ]
    }
   ],
   "source": [
    "stacked_tf_data_test=hstack_sparse_with_dense(X_test_tfidf_q1, np.array(X_test_tf.drop(['question1','question2'],axis=1)))\n",
    "print(stacked_tf_data_test.shape)"
   ]
  },
  {
   "cell_type": "markdown",
   "metadata": {
    "colab_type": "text",
    "id": "Iruqskr38zHX"
   },
   "source": [
    "# Model:"
   ]
  },
  {
   "cell_type": "markdown",
   "metadata": {
    "colab_type": "text",
    "id": "u4hmCoqW8zHa"
   },
   "source": [
    "## Initialize common objects :"
   ]
  },
  {
   "cell_type": "code",
   "execution_count": 141,
   "metadata": {
    "colab": {},
    "colab_type": "code",
    "id": "FsVgpVJq8zHc"
   },
   "outputs": [],
   "source": [
    "#HYPERPARAM RANGE\n",
    "params={'alpha':[10**x for x in range(-5,5)]}\n",
    "#STRATIFIED CV SPLIT\n",
    "CV = StratifiedKFold(n_splits=10)\n",
    "#TYPES OF MODELS\n",
    "model_use=['Logistic-Regression', 'Linear-SVM', 'XGBoost']"
   ]
  },
  {
   "cell_type": "markdown",
   "metadata": {
    "colab_type": "text",
    "id": "91Mb9dDW8zHi"
   },
   "source": [
    "## 1.Random Model:"
   ]
  },
  {
   "cell_type": "code",
   "execution_count": 142,
   "metadata": {
    "colab": {},
    "colab_type": "code",
    "id": "7ksue0qN8zHk",
    "outputId": "1aaaf9bd-ae95-4b58-d16a-51db34ac474e"
   },
   "outputs": [
    {
     "name": "stdout",
     "output_type": "stream",
     "text": [
      "Log loss on Test Data using Random Model 0.8847709468609612\n"
     ]
    },
    {
     "data": {
      "image/png": "[encoded data removed]",
      "text/plain": [
       "<Figure size 1152x288 with 6 Axes>"
      ]
     },
     "metadata": {
      "needs_background": "light"
     },
     "output_type": "display_data"
    }
   ],
   "source": [
    "predicted_y=random_model(y_test_tf,model_summary)"
   ]
  },
  {
   "cell_type": "code",
   "execution_count": 143,
   "metadata": {
    "colab": {},
    "colab_type": "code",
    "id": "l_Zj_VvE8zHz",
    "outputId": "3808eea2-a5b6-4711-f678-c704b58860e4"
   },
   "outputs": [
    {
     "name": "stdout",
     "output_type": "stream",
     "text": [
      "+--------+-----------------+----------------+\n",
      "| Model  | Train(Log-Loss) | Test(Log-Loss) |\n",
      "+--------+-----------------+----------------+\n",
      "| Random |      0.8848     |     0.8848     |\n",
      "+--------+-----------------+----------------+\n"
     ]
    }
   ],
   "source": [
    "print(model_summary)"
   ]
  },
  {
   "cell_type": "markdown",
   "metadata": {
    "colab_type": "text",
    "id": "-jpqZQ3R8zH-"
   },
   "source": [
    "## Logistic Regression:"
   ]
  },
  {
   "cell_type": "markdown",
   "metadata": {
    "colab_type": "text",
    "id": "4w8A5xdt8zIA"
   },
   "source": [
    "#### 1.Hyperparam tunning and  loss plot :"
   ]
  },
  {
   "cell_type": "code",
   "execution_count": 144,
   "metadata": {
    "colab": {},
    "colab_type": "code",
    "id": "bfYyFJFO8zIC",
    "outputId": "7b2081f7-09d1-4f6e-9471-b174e43a4b19"
   },
   "outputs": [
    {
     "name": "stdout",
     "output_type": "stream",
     "text": [
      "for alpha: 0.000010,\t\t train log-loss: 7.2698,\t cv log-loss: 8.4978\n",
      "for alpha: 0.000100,\t\t train log-loss: 6.1089,\t cv log-loss: 7.3266\n",
      "for alpha: 0.001000,\t\t train log-loss: 1.6636,\t cv log-loss: 2.2396\n",
      "for alpha: 0.010000,\t\t train log-loss: 0.3822,\t cv log-loss: 0.4763\n",
      "for alpha: 0.100000,\t\t train log-loss: 0.4101,\t cv log-loss: 0.4508\n",
      "for alpha: 1.000000,\t\t train log-loss: 0.5310,\t cv log-loss: 0.5421\n",
      "for alpha: 10.000000,\t\t train log-loss: 0.6556,\t cv log-loss: 0.6574\n",
      "for alpha: 100.000000,\t\t train log-loss: 0.6905,\t cv log-loss: 0.6907\n",
      "for alpha: 1000.000000,\t\t train log-loss: 0.6929,\t cv log-loss: 0.6929\n",
      "for alpha: 10000.000000,\t\t train log-loss: 0.6931,\t cv log-loss: 0.6931\n",
      "\n",
      "\n",
      "optimal alpha:0.100000, log-loss: 0.4508\n"
     ]
    },
    {
     "data": {
      "image/png": "[encoded data removed]",
      "text/plain": [
       "<Figure size 504x360 with 1 Axes>"
      ]
     },
     "metadata": {
      "needs_background": "light"
     },
     "output_type": "display_data"
    }
   ],
   "source": [
    "#STANDARDIZING DATA\n",
    "train, test = std_data(train=stacked_tf_data_train,test=stacked_tf_data_test,mean=False)\n",
    "#TUNNING HYPERPARAM \n",
    "model, opt_train_loss = linear_model_lr(train, y_train_tf, test, y_test_tf, params, CV, search='random')"
   ]
  },
  {
   "cell_type": "markdown",
   "metadata": {
    "colab_type": "text",
    "id": "ExcTwbvR8zIQ"
   },
   "source": [
    "#### 2.Performance on test data:"
   ]
  },
  {
   "cell_type": "code",
   "execution_count": 145,
   "metadata": {
    "colab": {},
    "colab_type": "code",
    "id": "NaVHgUCi8zIT",
    "outputId": "7fe17135-9ad8-48dc-c2d0-f383ecece077"
   },
   "outputs": [
    {
     "data": {
      "image/png": "[encoded data removed]",
      "text/plain": [
       "<Figure size 1152x288 with 6 Axes>"
      ]
     },
     "metadata": {},
     "output_type": "display_data"
    },
    {
     "name": "stdout",
     "output_type": "stream",
     "text": [
      "test log-loss: 0.4176\n"
     ]
    }
   ],
   "source": [
    "opt_param=model.best_params_['alpha']\n",
    "test_performance_linear(opt_param, train, y_train_tf, test, y_test_tf, model_summary, opt_train_loss, model_use[0],loss='log')"
   ]
  },
  {
   "cell_type": "markdown",
   "metadata": {
    "colab_type": "text",
    "id": "RPdyOmmq8zIe"
   },
   "source": [
    "#### 3. Summary:"
   ]
  },
  {
   "cell_type": "code",
   "execution_count": 146,
   "metadata": {
    "colab": {},
    "colab_type": "code",
    "id": "7FLbvSrX8zIg",
    "outputId": "4f81233d-ccdd-434e-a1e6-6228cb3e6955"
   },
   "outputs": [
    {
     "name": "stdout",
     "output_type": "stream",
     "text": [
      "+---------------------+-----------------+----------------+\n",
      "|        Model        | Train(Log-Loss) | Test(Log-Loss) |\n",
      "+---------------------+-----------------+----------------+\n",
      "|        Random       |      0.8848     |     0.8848     |\n",
      "| Logistic-Regression |      0.3822     |     0.4176     |\n",
      "+---------------------+-----------------+----------------+\n"
     ]
    }
   ],
   "source": [
    "print(model_summary)"
   ]
  },
  {
   "cell_type": "markdown",
   "metadata": {
    "colab_type": "text",
    "id": "rkJxOjiY8zIo"
   },
   "source": [
    "## Linear SVM"
   ]
  },
  {
   "cell_type": "markdown",
   "metadata": {
    "colab_type": "text",
    "id": "TyGxAqTG8zIq"
   },
   "source": [
    "#### 1.Hyperparam tunning and  loss plot :"
   ]
  },
  {
   "cell_type": "code",
   "execution_count": 147,
   "metadata": {
    "colab": {},
    "colab_type": "code",
    "id": "7qutQHrv8zIy",
    "outputId": "1f580db5-ad57-42a0-ee33-4d413dac2849"
   },
   "outputs": [
    {
     "name": "stdout",
     "output_type": "stream",
     "text": [
      "for alpha: 0.000010,\t\t train log-loss: 0.4280,\t cv log-loss: 0.4813\n",
      "for alpha: 0.000100,\t\t train log-loss: 0.4275,\t cv log-loss: 0.4808\n",
      "for alpha: 0.001000,\t\t train log-loss: 0.4245,\t cv log-loss: 0.4787\n",
      "for alpha: 0.010000,\t\t train log-loss: 0.3996,\t cv log-loss: 0.4576\n",
      "for alpha: 0.100000,\t\t train log-loss: 0.3703,\t cv log-loss: 0.4308\n",
      "for alpha: 1.000000,\t\t train log-loss: 0.4031,\t cv log-loss: 0.4402\n",
      "for alpha: 10.000000,\t\t train log-loss: 0.4776,\t cv log-loss: 0.4886\n",
      "for alpha: 100.000000,\t\t train log-loss: 0.4841,\t cv log-loss: 0.4919\n",
      "for alpha: 1000.000000,\t\t train log-loss: 0.4841,\t cv log-loss: 0.4919\n",
      "for alpha: 10000.000000,\t\t train log-loss: 0.4841,\t cv log-loss: 0.4919\n"
     ]
    },
    {
     "data": {
      "image/png": "[encoded data removed]",
      "text/plain": [
       "<Figure size 504x360 with 1 Axes>"
      ]
     },
     "metadata": {},
     "output_type": "display_data"
    }
   ],
   "source": [
    "opt_param, opt_train_loss = linear_model_svm(train, y_train_tf, test, y_test_tf, params)"
   ]
  },
  {
   "cell_type": "markdown",
   "metadata": {
    "colab_type": "text",
    "id": "HVKQ23jj8zI8"
   },
   "source": [
    "#### 2.Performance on test data:"
   ]
  },
  {
   "cell_type": "code",
   "execution_count": 148,
   "metadata": {
    "colab": {},
    "colab_type": "code",
    "id": "1R1rJyVi8zJJ",
    "outputId": "1950cf16-09c2-4529-c357-af431665a765"
   },
   "outputs": [
    {
     "data": {
      "image/png": "[encoded data removed]",
      "text/plain": [
       "<Figure size 1152x288 with 6 Axes>"
      ]
     },
     "metadata": {},
     "output_type": "display_data"
    },
    {
     "name": "stdout",
     "output_type": "stream",
     "text": [
      "test log-loss: 0.4196\n"
     ]
    }
   ],
   "source": [
    "test_performance_linear(opt_param, train, y_train_tf, test, y_test_tf, model_summary, opt_train_loss, model_use[1], loss='hinge')"
   ]
  },
  {
   "cell_type": "markdown",
   "metadata": {
    "colab_type": "text",
    "id": "WULSQs7q8zJX"
   },
   "source": [
    "#### 2. summary:"
   ]
  },
  {
   "cell_type": "code",
   "execution_count": 149,
   "metadata": {
    "colab": {},
    "colab_type": "code",
    "id": "rPU7HT4A8zJa",
    "outputId": "b225d1cb-0a9f-46ec-ee7a-ff6a07868032"
   },
   "outputs": [
    {
     "name": "stdout",
     "output_type": "stream",
     "text": [
      "+---------------------+-----------------+----------------+\n",
      "|        Model        | Train(Log-Loss) | Test(Log-Loss) |\n",
      "+---------------------+-----------------+----------------+\n",
      "|        Random       |      0.8848     |     0.8848     |\n",
      "| Logistic-Regression |      0.3822     |     0.4176     |\n",
      "|      Linear-SVM     |      0.3703     |     0.4196     |\n",
      "+---------------------+-----------------+----------------+\n"
     ]
    }
   ],
   "source": [
    "print(model_summary)"
   ]
  },
  {
   "cell_type": "markdown",
   "metadata": {
    "colab_type": "text",
    "id": "BbVZu3em8zJq"
   },
   "source": [
    "## XGBOOST:"
   ]
  },
  {
   "cell_type": "markdown",
   "metadata": {},
   "source": [
    "### Initialize common objects:"
   ]
  },
  {
   "cell_type": "code",
   "execution_count": 37,
   "metadata": {
    "colab": {},
    "colab_type": "code",
    "id": "ux5QCxXfWV8R"
   },
   "outputs": [],
   "source": [
    "#DICT OF PARAMETERS TO BE TUNED, INITIALLY SET RESONABLE VALUES FOR PARAMETER\n",
    "params_={\n",
    "    'n_estimators':128,\n",
    "    'max_depth':5,\n",
    "    'min_child_weight':1,\n",
    "    'gamma':0,\n",
    "    'subsample':.8,\n",
    "    'colsample_bytree':.8,\n",
    "    'reg_alpha':.1\n",
    "}\n",
    "\n",
    "#SEARCH METHOD\n",
    "searchMethod='random'\n",
    "#TRAIN AND TEST DATA\n",
    "train=X_train;test=X_test;"
   ]
  },
  {
   "cell_type": "markdown",
   "metadata": {
    "colab_type": "text",
    "id": "69la2UGb2BVp"
   },
   "source": [
    "#### [a.] Tune n_estimators(no. of base learners):"
   ]
  },
  {
   "cell_type": "code",
   "execution_count": 42,
   "metadata": {
    "colab": {},
    "colab_type": "code",
    "id": "_OOXs65M1oO2"
   },
   "outputs": [
    {
     "name": "stdout",
     "output_type": "stream",
     "text": [
      "Fitting 10 folds for each of 3 candidates, totalling 30 fits\n"
     ]
    },
    {
     "name": "stderr",
     "output_type": "stream",
     "text": [
      "[Parallel(n_jobs=-1)]: Using backend LokyBackend with 24 concurrent workers.\n",
      "[Parallel(n_jobs=-1)]: Done  14 out of  30 | elapsed:  3.1min remaining:  3.6min\n",
      "[Parallel(n_jobs=-1)]: Done  30 out of  30 | elapsed:  6.0min finished\n"
     ]
    },
    {
     "name": "stdout",
     "output_type": "stream",
     "text": [
      "Train Log-Loss: 0.3344 CV Log-Loss: 0.3532\n",
      "Train Log-Loss: 0.2962 CV Log-Loss: 0.3417\n",
      "Train Log-Loss: 0.2441 CV Log-Loss: 0.3363\n"
     ]
    }
   ],
   "source": [
    "%%time\n",
    "#BASE ESTIMATOR RANGE\n",
    "tune_param={}\n",
    "tune_param['n_estimators']=[64,128,256]\n",
    "\n",
    "#TUNNING HYPERPARAM\n",
    "model=Ensemble_Classifier(train,y_train,CV,params_, tune_param,searchMethod,param_name=1)\n",
    "\n",
    "#UPDATE OTIMAL VALUE OF PARAMETER\n",
    "params_['n_estimators'] = model.best_params_['n_estimators']"
   ]
  },
  {
   "cell_type": "markdown",
   "metadata": {},
   "source": [
    "#### Test Performance:"
   ]
  },
  {
   "cell_type": "code",
   "execution_count": 46,
   "metadata": {
    "colab": {},
    "colab_type": "code",
    "id": "xYAj8vwr76Dn"
   },
   "outputs": [
    {
     "name": "stdout",
     "output_type": "stream",
     "text": [
      "test_loss: 0.33175645515301455\n"
     ]
    },
    {
     "data": {
      "image/png": "[encoded data removed]",
      "text/plain": [
       "<Figure size 1152x288 with 6 Axes>"
      ]
     },
     "metadata": {
      "needs_background": "light"
     },
     "output_type": "display_data"
    }
   ],
   "source": [
    "%time test_performance(train, y_train, test, y_test, params_ )"
   ]
  },
  {
   "cell_type": "markdown",
   "metadata": {
    "colab_type": "text",
    "id": "WsR-Ymbf2QDR"
   },
   "source": [
    "#### [b.] Tune max_depth and min_child_weight:"
   ]
  },
  {
   "cell_type": "code",
   "execution_count": 48,
   "metadata": {
    "colab": {},
    "colab_type": "code",
    "id": "P4xmtq-cahzs"
   },
   "outputs": [
    {
     "name": "stdout",
     "output_type": "stream",
     "text": [
      "Fitting 10 folds for each of 3 candidates, totalling 30 fits\n"
     ]
    },
    {
     "name": "stderr",
     "output_type": "stream",
     "text": [
      "[Parallel(n_jobs=-1)]: Using backend LokyBackend with 24 concurrent workers.\n",
      "[Parallel(n_jobs=-1)]: Done  14 out of  30 | elapsed:  6.6min remaining:  7.5min\n",
      "[Parallel(n_jobs=-1)]: Done  30 out of  30 | elapsed: 13.5min finished\n"
     ]
    },
    {
     "name": "stdout",
     "output_type": "stream",
     "text": [
      "Train Log-Loss: 0.2441 CV Log-Loss: 0.3363\n",
      "Train Log-Loss: 0.2482 CV Log-Loss: 0.3367\n",
      "Train Log-Loss: 0.0645 CV Log-Loss: 0.3394\n"
     ]
    }
   ],
   "source": [
    "%%time\n",
    "#HYPERPARAM RANGE\n",
    "tune_param={}\n",
    "tune_param['max_depth']=[5,7,9]\n",
    "tune_param['min_child_weight']=[1,3,5]\n",
    "\n",
    "#TUNNING HYPERPARAM\n",
    "model=Ensemble_Classifier(train, y_train, CV, params_, tune_param, searchMethod, param_name=2)\n",
    " \n",
    "#UPDATE OTIMAL VALUE OF PARAMETER\n",
    "params_['max_depth'] = model.best_params_['max_depth']\n",
    "params_['min_child_weight'] = model.best_params_['min_child_weight']"
   ]
  },
  {
   "cell_type": "markdown",
   "metadata": {},
   "source": [
    "#### Test Performance:"
   ]
  },
  {
   "cell_type": "code",
   "execution_count": 49,
   "metadata": {
    "colab": {},
    "colab_type": "code",
    "id": "xW_mG35d8kDU"
   },
   "outputs": [
    {
     "name": "stdout",
     "output_type": "stream",
     "text": [
      "test_loss: 0.33175645515301455\n"
     ]
    },
    {
     "data": {
      "image/png": "[encoded data removed]",
      "text/plain": [
       "<Figure size 1152x288 with 6 Axes>"
      ]
     },
     "metadata": {
      "needs_background": "light"
     },
     "output_type": "display_data"
    },
    {
     "name": "stdout",
     "output_type": "stream",
     "text": [
      "CPU times: user 4min 15s, sys: 2.35 s, total: 4min 17s\n",
      "Wall time: 4min 14s\n"
     ]
    }
   ],
   "source": [
    "%time test_performance(train, y_train, test, y_test,params_ )"
   ]
  },
  {
   "cell_type": "markdown",
   "metadata": {
    "colab_type": "text",
    "id": "PZ0qbkIG2bvY"
   },
   "source": [
    "#### [c.] Tune gamma:"
   ]
  },
  {
   "cell_type": "code",
   "execution_count": 52,
   "metadata": {
    "colab": {},
    "colab_type": "code",
    "id": "SYpgmVKVXoub"
   },
   "outputs": [
    {
     "name": "stdout",
     "output_type": "stream",
     "text": [
      "Fitting 10 folds for each of 3 candidates, totalling 30 fits\n"
     ]
    },
    {
     "name": "stderr",
     "output_type": "stream",
     "text": [
      "[Parallel(n_jobs=-1)]: Using backend LokyBackend with 24 concurrent workers.\n",
      "[Parallel(n_jobs=-1)]: Done  14 out of  30 | elapsed:  6.6min remaining:  7.6min\n",
      "[Parallel(n_jobs=-1)]: Done  30 out of  30 | elapsed: 10.3min finished\n"
     ]
    },
    {
     "name": "stdout",
     "output_type": "stream",
     "text": [
      "Train Log-Loss: 0.2445 CV Log-Loss: 0.3362\n",
      "Train Log-Loss: 0.2441 CV Log-Loss: 0.3363\n",
      "Train Log-Loss: 0.2440 CV Log-Loss: 0.3362\n"
     ]
    }
   ],
   "source": [
    "#HYPERPARAM RANGE\n",
    "tune_param={}\n",
    "tune_param['gamma']=[i/10.0 for i in range(0,5)]\n",
    "\n",
    "#TUNNING HYPERPARAM\n",
    "model=Ensemble_Classifier(train,y_train,CV,params_,tune_param,searchMethod, param_name=1)\n",
    "\n",
    "#UPDATE OTIMAL VALUE OF PARAMETER\n",
    "params_['gamma'] = model.best_params_['gamma']"
   ]
  },
  {
   "cell_type": "markdown",
   "metadata": {},
   "source": [
    "#### Test Performance:"
   ]
  },
  {
   "cell_type": "code",
   "execution_count": 53,
   "metadata": {
    "colab": {},
    "colab_type": "code",
    "id": "y99w7Vgz-3XY"
   },
   "outputs": [
    {
     "name": "stdout",
     "output_type": "stream",
     "text": [
      "test_loss: 0.33178602452932426\n"
     ]
    },
    {
     "data": {
      "image/png": "[encoded data removed]",
      "text/plain": [
       "<Figure size 1152x288 with 6 Axes>"
      ]
     },
     "metadata": {
      "needs_background": "light"
     },
     "output_type": "display_data"
    }
   ],
   "source": [
    "test_performance(train, y_train, test, y_test,params_ )"
   ]
  },
  {
   "cell_type": "markdown",
   "metadata": {
    "colab_type": "text",
    "id": "vAz1Wd8h2hHY"
   },
   "source": [
    "#### [d.] Tune subsample and colsample_bytree:"
   ]
  },
  {
   "cell_type": "code",
   "execution_count": 57,
   "metadata": {
    "colab": {},
    "colab_type": "code",
    "id": "lPayCEeRYIRU"
   },
   "outputs": [
    {
     "name": "stdout",
     "output_type": "stream",
     "text": [
      "Fitting 10 folds for each of 3 candidates, totalling 30 fits\n"
     ]
    },
    {
     "name": "stderr",
     "output_type": "stream",
     "text": [
      "[Parallel(n_jobs=-1)]: Using backend LokyBackend with 24 concurrent workers.\n",
      "[Parallel(n_jobs=-1)]: Done  14 out of  30 | elapsed:  7.5min remaining:  8.6min\n",
      "[Parallel(n_jobs=-1)]: Done  30 out of  30 | elapsed: 11.6min finished\n"
     ]
    },
    {
     "name": "stdout",
     "output_type": "stream",
     "text": [
      "Train Log-Loss: 0.2450 CV Log-Loss: 0.3360\n",
      "Train Log-Loss: 0.2434 CV Log-Loss: 0.3367\n",
      "Train Log-Loss: 0.2434 CV Log-Loss: 0.3366\n",
      "CPU times: user 4min 43s, sys: 1.39 s, total: 4min 45s\n",
      "Wall time: 16min 16s\n"
     ]
    }
   ],
   "source": [
    "%%time\n",
    "#HYPERPARAM RANGE\n",
    "tune_param={}\n",
    "tune_param['subsample']=[.7,.8,.9]#[i/10.0 for i in range(6,10)],\n",
    "tune_param['colsample_bytree']=[.7,.8,.9]#[i/10.0 for i in range(6,10)]\n",
    "\n",
    "#TUNNING HYPERPARAM\n",
    "model=Ensemble_Classifier(train,y_train,CV,params_,tune_param,searchMethod, param_name=2)\n",
    "\n",
    "#UPDATE OTIMAL VALUE OF PARAMETER\n",
    "params_['subsample'] = model.best_params_['subsample']\n",
    "params_['colsample_bytree'] = model.best_params_['colsample_bytree']"
   ]
  },
  {
   "cell_type": "markdown",
   "metadata": {},
   "source": [
    "#### Test Performance:"
   ]
  },
  {
   "cell_type": "code",
   "execution_count": 58,
   "metadata": {
    "colab": {},
    "colab_type": "code",
    "id": "70tP4Zd6_Nss"
   },
   "outputs": [
    {
     "name": "stdout",
     "output_type": "stream",
     "text": [
      "test_loss: 0.33225498789842156\n"
     ]
    },
    {
     "data": {
      "image/png": "[encoded data removed]",
      "text/plain": [
       "<Figure size 1152x288 with 6 Axes>"
      ]
     },
     "metadata": {
      "needs_background": "light"
     },
     "output_type": "display_data"
    }
   ],
   "source": [
    "test_performance(train, y_train, test, y_test,params_ )"
   ]
  },
  {
   "cell_type": "markdown",
   "metadata": {
    "colab_type": "text",
    "id": "zn22HN-323vi"
   },
   "source": [
    "#### [e.] Tune reg_alpha:"
   ]
  },
  {
   "cell_type": "code",
   "execution_count": 59,
   "metadata": {
    "colab": {},
    "colab_type": "code",
    "id": "Tl4NA16KbELS"
   },
   "outputs": [
    {
     "name": "stdout",
     "output_type": "stream",
     "text": [
      "Fitting 10 folds for each of 3 candidates, totalling 30 fits\n"
     ]
    },
    {
     "name": "stderr",
     "output_type": "stream",
     "text": [
      "[Parallel(n_jobs=-1)]: Using backend LokyBackend with 24 concurrent workers.\n",
      "[Parallel(n_jobs=-1)]: Done  14 out of  30 | elapsed:  7.7min remaining:  8.8min\n",
      "[Parallel(n_jobs=-1)]: Done  30 out of  30 | elapsed: 11.9min finished\n"
     ]
    },
    {
     "name": "stdout",
     "output_type": "stream",
     "text": [
      "Train Log-Loss: 0.2455 CV Log-Loss: 0.3359\n",
      "Train Log-Loss: 0.2447 CV Log-Loss: 0.3360\n",
      "Train Log-Loss: 0.2452 CV Log-Loss: 0.3359\n"
     ]
    }
   ],
   "source": [
    "#HYPERPARAM RANGE\n",
    "tune_param={}\n",
    "tune_param['reg_alpha']=[0, 0.001, 0.005, 0.01, 0.05]\n",
    "\n",
    "#TUNNING HYPERPARAM\n",
    "model=Ensemble_Classifier(train,y_train,CV,params_,tune_param,searchMethod, param_name=1)\n",
    "\n",
    "#UPDATE OTIMAL VALUE OF PARAMETER\n",
    "params_['reg_alpha'] = model.best_params_['reg_alpha']"
   ]
  },
  {
   "cell_type": "markdown",
   "metadata": {},
   "source": [
    "#### Test Performance:"
   ]
  },
  {
   "cell_type": "code",
   "execution_count": 154,
   "metadata": {
    "colab": {},
    "colab_type": "code",
    "id": "FDmvjmJE_P9N"
   },
   "outputs": [
    {
     "name": "stdout",
     "output_type": "stream",
     "text": [
      "test_loss: 0.33007172532686385\n"
     ]
    },
    {
     "data": {
      "image/png": "[encoded data removed]",
      "text/plain": [
       "<Figure size 1152x288 with 6 Axes>"
      ]
     },
     "metadata": {},
     "output_type": "display_data"
    }
   ],
   "source": [
    "test_performance(train, y_train, test, y_test, params_, model_use[2],True)"
   ]
  },
  {
   "cell_type": "markdown",
   "metadata": {},
   "source": [
    "#### Summary:"
   ]
  },
  {
   "cell_type": "code",
   "execution_count": 155,
   "metadata": {},
   "outputs": [
    {
     "name": "stdout",
     "output_type": "stream",
     "text": [
      "+---------------------+-----------------+----------------+\n",
      "|        Model        | Train(Log-Loss) | Test(Log-Loss) |\n",
      "+---------------------+-----------------+----------------+\n",
      "|        Random       |      0.8848     |     0.8848     |\n",
      "| Logistic-Regression |      0.3822     |     0.4176     |\n",
      "|      Linear-SVM     |      0.3703     |     0.4196     |\n",
      "|       XGBoost       |      0.2561     |     0.3301     |\n",
      "+---------------------+-----------------+----------------+\n"
     ]
    }
   ],
   "source": [
    "print(model_summary)"
   ]
  },
  {
   "cell_type": "markdown",
   "metadata": {},
   "source": [
    "#### Save final optimal model:"
   ]
  },
  {
   "cell_type": "code",
   "execution_count": 151,
   "metadata": {},
   "outputs": [],
   "source": [
    "saveModeltofile(model,'XGBOOST_TUNED_MODEL')\n",
    "model=openModelfromfile('XGBOOST_TUNED_MODEL')\n",
    "train=X_train;test=X_test;"
   ]
  },
  {
   "cell_type": "markdown",
   "metadata": {},
   "source": [
    "# Conclusion:"
   ]
  },
  {
   "cell_type": "code",
   "execution_count": 156,
   "metadata": {},
   "outputs": [
    {
     "name": "stdout",
     "output_type": "stream",
     "text": [
      "+---------------------+-----------------+----------------+\n",
      "|        Model        | Train(Log-Loss) | Test(Log-Loss) |\n",
      "+---------------------+-----------------+----------------+\n",
      "|        Random       |      0.8848     |     0.8848     |\n",
      "| Logistic-Regression |      0.3822     |     0.4176     |\n",
      "|      Linear-SVM     |      0.3703     |     0.4196     |\n",
      "|       XGBoost       |      0.2561     |     0.3301     |\n",
      "+---------------------+-----------------+----------------+\n"
     ]
    }
   ],
   "source": [
    "print(model_summary)"
   ]
  },
  {
   "cell_type": "markdown",
   "metadata": {},
   "source": [
    "#### XGBOOST performs very well with log-loss:\n",
    "        a. train log-loss = .2561\n",
    "        b. test log-loss = .3301"
   ]
  },
  {
   "cell_type": "markdown",
   "metadata": {},
   "source": [
    "# Procedure:"
   ]
  },
  {
   "cell_type": "markdown",
   "metadata": {},
   "source": [
    "1. We have to solve problem, given a pair of questions these question are similar or not.\n",
    "2. We proceed with basic details of dataset like :\n",
    "    \n",
    "        a. How many data points?\n",
    "        b. Is data is balanced or imbalanced?\n",
    "        c. How many null values are there?\n",
    "3. We do Exploratory Data Analysis and Feature Extraction :\n",
    "    \n",
    "        a. We extract Frequency based features like length of question, frequency of question, number of words in question, word share etc\n",
    "        b. We extract more advanced features using fuzzywuzzy (ex fuzz-ratio, fuzz-partial-ratio, token-sort-ratio etc)\n",
    "        c. We did EDA on Extracted fetures (PDF, Violin plot, Histogram etc).\n",
    "4. We featurize textual data:\n",
    "        \n",
    "        a. TF-IDF Weighted Word2VEC (using spacy pretrained GLO-VEC(Global Vectors)) \n",
    "        b. TF-IDF Vector (using sklearn)\n",
    "5. We build different ML Models on extracted features (Textual + Freq Based + FuzzyWuzzy):\n",
    "    \n",
    "        a. Logistic Regression(TF-IDF)    \n",
    "        b. Linear SVM(TF-IDF)    \n",
    "        c. XGBOOST(TFIDF-W2V)"
   ]
  },
  {
   "cell_type": "markdown",
   "metadata": {},
   "source": [
    "Reference Links:\n",
    "1. https://www.appliedaicourse.com/\n",
    "2. https://www.analyticsvidhya.com/blog/2016/03/complete-guide-parameter-tuning-xgboost-with-codes-python/\n",
    "3. https://spacy.io/usage/vectors-similarity\n",
    "4. https://towardsdatascience.com/fine-tuning-xgboost-in-python-like-a-boss-b4543ed8b1e\n",
    "5. https://machinelearningmastery.com/tune-number-size-decision-trees-xgboost-python/"
   ]
  }
 ],
 "metadata": {
  "colab": {
   "collapsed_sections": [
    "hf_Z2TFo8zBu",
    "PyhrpGya8zCE",
    "aYSmtTjA8zCl",
    "-LqUBHi68zDD",
    "vK4iIkkg8zDZ",
    "RpzDSce78zD_",
    "UL8kglOh8zEt",
    "-WxpDuid8zE7",
    "dys61puo8zFR",
    "m9zqdQLg8zGY",
    "RPwQU8-o8zHD",
    "4w8A5xdt8zIA",
    "ExcTwbvR8zIQ",
    "RPdyOmmq8zIe",
    "TyGxAqTG8zIq",
    "HVKQ23jj8zI8",
    "WULSQs7q8zJX"
   ],
   "name": "quora_tuned_project_today.ipynb",
   "provenance": [],
   "version": "0.3.2"
  },
  "kernelspec": {
   "display_name": "Python 3",
   "language": "python",
   "name": "python3"
  },
  "language_info": {
   "codemirror_mode": {
    "name": "ipython",
    "version": 3
   },
   "file_extension": ".py",
   "mimetype": "text/x-python",
   "name": "python",
   "nbconvert_exporter": "python",
   "pygments_lexer": "ipython3",
   "version": "3.5.3"
  }
 },
 "nbformat": 4,
 "nbformat_minor": 1
}
